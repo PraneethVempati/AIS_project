{
  "nbformat": 4,
  "nbformat_minor": 0,
  "metadata": {
    "colab": {
      "provenance": []
    },
    "kernelspec": {
      "name": "python3",
      "display_name": "Python 3"
    },
    "language_info": {
      "name": "python"
    }
  },
  "cells": [
    {
      "cell_type": "code",
      "execution_count": 2,
      "metadata": {
        "colab": {
          "base_uri": "https://localhost:8080/"
        },
        "id": "nqFS5myKJ_C1",
        "outputId": "3c069659-3557-4c8f-f973-d2e215405efa"
      },
      "outputs": [
        {
          "output_type": "stream",
          "name": "stdout",
          "text": [
            "Mounted at /content/drive\n"
          ]
        }
      ],
      "source": [
        "# mount to google drive\n",
        "from google.colab import drive\n",
        "drive.mount('/content/drive')"
      ]
    },
    {
      "cell_type": "code",
      "source": [
        "import pandas as pd\n",
        "\n",
        "# load all datasets as dataframe\n",
        "data1 = pd.read_csv('/content/drive/My Drive/AIS_project/Data/Udemy.csv')\n",
        "data2 = pd.read_csv('/content/drive/My Drive/AIS_project/Data/skillshare.csv')\n",
        "data3 = pd.read_csv('/content/drive/My Drive/AIS_project/Data/edx.csv')\n",
        "data4 = pd.read_csv('/content/drive/My Drive/AIS_project/Data/Coursera.csv')\n",
        "df1 = pd.DataFrame(data1)\n",
        "df2 = pd.DataFrame(data2)\n",
        "df3 = pd.DataFrame(data3)\n",
        "df4 = pd.DataFrame(data4)"
      ],
      "metadata": {
        "id": "V48ss2_MKYqT"
      },
      "execution_count": 4,
      "outputs": []
    },
    {
      "cell_type": "code",
      "source": [
        "print(f'df1:{df1.head()}')\n",
        "print(f'df2:{df2.head()}')\n",
        "print(f'df3:{df3.head()}')\n",
        "print(f'df4:{df4.head()}')"
      ],
      "metadata": {
        "id": "bifnWezdKwap",
        "colab": {
          "base_uri": "https://localhost:8080/"
        },
        "outputId": "02b80736-d0a0-4b23-ce89-ee29ec3ceaed"
      },
      "execution_count": 5,
      "outputs": [
        {
          "output_type": "stream",
          "name": "stdout",
          "text": [
            "df1:                                               title  \\\n",
            "0  The Complete Python Bootcamp From Zero to Hero...   \n",
            "1         The Complete 2023 Web Development Bootcamp   \n",
            "2                    The Web Developer Bootcamp 2023   \n",
            "3  100 Days of Code: The Complete Python Pro Boot...   \n",
            "4  React - The Complete Guide 2023 (incl. React R...   \n",
            "\n",
            "                                         description  \\\n",
            "0  Learn Python like a Professional  Start from t...   \n",
            "1  Become a Full-Stack Web Developer with just ON...   \n",
            "2  10 Hours of React just added. Become a Develop...   \n",
            "3  Master Python by building 100 projects in 100 ...   \n",
            "4  Dive in and learn React.js from scratch! Learn...   \n",
            "\n",
            "                                          instructor  rating  reviewcount  \\\n",
            "0                                      Jose Portilla     4.6       486391   \n",
            "1                                      Dr. Angela Yu     4.7       338555   \n",
            "2                                        Colt Steele     4.7       266527   \n",
            "3                                      Dr. Angela Yu     4.7       251585   \n",
            "4  Academind by Maximilian Schwarzmüller, Maximil...     4.6       199663   \n",
            "\n",
            "           duration      lectures       level  \n",
            "0    22 total hours  156 lectures  All Levels  \n",
            "1    63 total hours  380 lectures  All Levels  \n",
            "2    74 total hours  722 lectures  All Levels  \n",
            "3    58 total hours  636 lectures  All Levels  \n",
            "4  74.5 total hours  739 lectures  All Levels  \n",
            "df2:                                               title  \\\n",
            "0                   Fundamentals of DSLR Photography   \n",
            "1  Video Editing with Adobe Premiere Pro for Begi...   \n",
            "2  Productivity Masterclass - Principles and Tool...   \n",
            "3    Adobe Photoshop CC – Essentials Training Course   \n",
            "4  Mastering Productivity: Create a Custom System...   \n",
            "\n",
            "                                                link duration  \\\n",
            "0  https://www.skillshare.com/en/classes/Fundamen...   1h 19m   \n",
            "1  https://www.skillshare.com/en/classes/Video-Ed...   3h 21m   \n",
            "2  https://www.skillshare.com/en/classes/Producti...   1h 55m   \n",
            "3  https://www.skillshare.com/en/classes/Adobe-Ph...   9h 56m   \n",
            "4  https://www.skillshare.com/en/classes/Masterin...    1h 5m   \n",
            "\n",
            "                          instructor          students  \n",
            "0  Photo Essentials x Justin Bridges  133,422 students  \n",
            "1                     Jordy Vandeput  126,674 students  \n",
            "2                         Ali Abdaal  109,681 students  \n",
            "3                       Daniel Scott   98,746 students  \n",
            "4                       Thomas Frank  149,648 students  \n",
            "df3:                                               title  \\\n",
            "0                                How to Learn Online   \n",
            "1                           The Science of Happiness   \n",
            "2                 Remote Work Revolutionfor Everyone   \n",
            "3             CS50's Introduction toComputer Science   \n",
            "4  Data Visualization andBuilding Dashboards with...   \n",
            "\n",
            "                                                link  \\\n",
            "0  https://www.edx.org/learn/how-to-learn/edx-how...   \n",
            "1  https://www.edx.org/learn/happiness/university...   \n",
            "2  https://www.edx.org/learn/remote-work/harvard-...   \n",
            "3  https://www.edx.org/learn/computer-science/har...   \n",
            "4  https://www.edx.org/learn/data-visualization/i...   \n",
            "\n",
            "                          institution                       subject  \\\n",
            "0                                 edX  Education & Teacher Training   \n",
            "1  University of California, Berkeley               Social Sciences   \n",
            "2                  Harvard University         Business & Management   \n",
            "3                  Harvard University              Computer Science   \n",
            "4                                 IBM    Data Analysis & Statistics   \n",
            "\n",
            "          level prerequisites language videotranscript  \\\n",
            "0  Introductory           NaN  English         English   \n",
            "1  Introductory         None.  English         English   \n",
            "2  Introductory           NaN  English             NaN   \n",
            "3  Introductory         None.  English         English   \n",
            "4  Introductory           NaN  English             NaN   \n",
            "\n",
            "                                  associatedprograms  \\\n",
            "0                                                NaN   \n",
            "1                                                NaN   \n",
            "2  Professional Certificate inLeading in a Remote...   \n",
            "3  Professional Certificate inComputer Science fo...   \n",
            "4  Professional CertificateinData Analysis and Vi...   \n",
            "\n",
            "                                    associatedskills  \n",
            "0                                    Learning Design  \n",
            "1          Evolutionary Biology, Empathy, Psychology  \n",
            "2      Customer Relationship Building, Telecommuting  \n",
            "3  Resource Management, JavaScript (Programming L...  \n",
            "4  Data Visualization, Data Analysis, IBM Cognos ...  \n",
            "df4:  partner                                 course  \\\n",
            "0  Google                   Google Cybersecurity   \n",
            "1  Google                  Google Data Analytics   \n",
            "2  Google             Google Project Management:   \n",
            "3  Google  Google Digital Marketing & E-commerce   \n",
            "4  Google                      Google IT Support   \n",
            "\n",
            "                                              skills  rating reviewcount  \\\n",
            "0  {\" Network Security\",\" Python Programming\",\" L...     4.8       16.4k   \n",
            "1  {\" Data Analysis\",\" R Programming\",\" SQL\",\" Bu...     4.8      133.4k   \n",
            "2  {\" Project Management\",\" Strategy and Operatio...     4.8       97.3k   \n",
            "3  {\" Digital Marketing\",\" Marketing\",\" Marketing...     4.8       21.4k   \n",
            "4  {\" Computer Networking\",\" Network Architecture...     4.8      181.4k   \n",
            "\n",
            "       level             certificatetype       duration  crediteligibility  \n",
            "0  Beginner    Professional Certificate    3 - 6 Months              False  \n",
            "1  Beginner    Professional Certificate    3 - 6 Months               True  \n",
            "2  Beginner    Professional Certificate    3 - 6 Months               True  \n",
            "3  Beginner    Professional Certificate    3 - 6 Months              False  \n",
            "4  Beginner    Professional Certificate    3 - 6 Months               True  \n"
          ]
        }
      ]
    },
    {
      "cell_type": "code",
      "source": [
        "print(f'df1:{df1.shape}')\n",
        "print(f'df2:{df2.shape}')\n",
        "print(f'df3:{df3.shape}')\n",
        "print(f'df4:{df4.shape}')"
      ],
      "metadata": {
        "colab": {
          "base_uri": "https://localhost:8080/"
        },
        "id": "V5Dlxej9Rn3r",
        "outputId": "71757731-a5a0-4c25-faf5-032e74f1ed59"
      },
      "execution_count": 6,
      "outputs": [
        {
          "output_type": "stream",
          "name": "stdout",
          "text": [
            "df1:(26256, 8)\n",
            "df2:(14250, 5)\n",
            "df3:(816, 10)\n",
            "df4:(1139, 9)\n"
          ]
        }
      ]
    },
    {
      "cell_type": "code",
      "source": [],
      "metadata": {
        "id": "GNtOygv5SFKh"
      },
      "execution_count": null,
      "outputs": []
    }
  ]
}